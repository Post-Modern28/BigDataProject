{
 "cells": [
  {
   "cell_type": "code",
   "execution_count": 2,
   "id": "initial_id",
   "metadata": {
    "collapsed": true,
    "ExecuteTime": {
     "end_time": "2024-04-15T20:47:27.756269Z",
     "start_time": "2024-04-15T20:47:23.011023Z"
    }
   },
   "outputs": [],
   "source": [
    "import pyspark\n",
    "import pyspark.sql.functions as F\n",
    "import numpy as np\n",
    "from pyspark.sql.session import SparkSession"
   ]
  },
  {
   "cell_type": "code",
   "outputs": [
    {
     "name": "stderr",
     "output_type": "stream",
     "text": [
      "WARNING: An illegal reflective access operation has occurred\n",
      "WARNING: Illegal reflective access by org.apache.spark.unsafe.Platform (file:/usr/local/spark-3.1.2-bin-hadoop3.2/jars/spark-unsafe_2.12-3.1.2.jar) to constructor java.nio.DirectByteBuffer(long,int)\n",
      "WARNING: Please consider reporting this to the maintainers of org.apache.spark.unsafe.Platform\n",
      "WARNING: Use --illegal-access=warn to enable warnings of further illegal reflective access operations\n",
      "WARNING: All illegal access operations will be denied in a future release\n",
      "24/04/15 20:47:57 WARN NativeCodeLoader: Unable to load native-hadoop library for your platform... using builtin-java classes where applicable\n",
      "Using Spark's default log4j profile: org/apache/spark/log4j-defaults.properties\n",
      "Setting default log level to \"WARN\".\n",
      "To adjust logging level use sc.setLogLevel(newLevel). For SparkR, use setLogLevel(newLevel).\n",
      "24/04/15 20:48:04 WARN Utils: Service 'SparkUI' could not bind on port 4040. Attempting port 4041.\n"
     ]
    }
   ],
   "source": [
    "spark = SparkSession.builder.appName('test').getOrCreate()"
   ],
   "metadata": {
    "collapsed": false,
    "ExecuteTime": {
     "end_time": "2024-04-15T20:48:09.627687Z",
     "start_time": "2024-04-15T20:47:44.017646Z"
    }
   },
   "id": "5e5379cbb3cab8bb",
   "execution_count": 3
  },
  {
   "cell_type": "code",
   "outputs": [
    {
     "data": {
      "text/plain": "DataFrame[Year: int, First_Name: string, County: string, Sex: string, Count: int]"
     },
     "metadata": {},
     "output_type": "display_data"
    }
   ],
   "source": [
    "data = [[2021, \"test\", \"Albany\", \"M\", 42]]\n",
    "columns = [\"Year\", \"First_Name\", \"County\", \"Sex\", \"Count\"]\n",
    "\n",
    "df1 = spark.createDataFrame(data, schema=\"Year int, First_Name STRING, County STRING, Sex STRING, Count int\")\n",
    "display(df1) # The display() method is specific to Databricks notebooks and provides a richer visualization.\n",
    "# df1.show() The show() method is a part of the Apache Spark DataFrame API and provides basic visualization.\n"
   ],
   "metadata": {
    "collapsed": false,
    "ExecuteTime": {
     "end_time": "2024-04-15T20:49:52.440208Z",
     "start_time": "2024-04-15T20:49:37.378630Z"
    }
   },
   "id": "4790fdff61b792ec",
   "execution_count": 4
  },
  {
   "cell_type": "code",
   "outputs": [
    {
     "name": "stderr",
     "output_type": "stream",
     "text": [
      "                                                                                \r"
     ]
    },
    {
     "name": "stdout",
     "output_type": "stream",
     "text": [
      "+----+----------+------+---+-----+\n",
      "|Year|First_Name|County|Sex|Count|\n",
      "+----+----------+------+---+-----+\n",
      "|2021|      test|Albany|  M|   42|\n",
      "+----+----------+------+---+-----+\n"
     ]
    }
   ],
   "source": [
    "df1.show()"
   ],
   "metadata": {
    "collapsed": false,
    "ExecuteTime": {
     "end_time": "2024-04-15T20:50:26.653969Z",
     "start_time": "2024-04-15T20:50:07.031419Z"
    }
   },
   "id": "faa0533e416c0879",
   "execution_count": 5
  },
  {
   "cell_type": "code",
   "outputs": [
    {
     "name": "stderr",
     "output_type": "stream",
     "text": [
      "                                                                                \r"
     ]
    },
    {
     "data": {
      "text/plain": "DataFrame[Year: int, First Name: string, County: string, Sex: string, Count: int]"
     },
     "metadata": {},
     "output_type": "display_data"
    }
   ],
   "source": [
    "df_csv = spark.read.csv(f\"work/Baby_Names__Beginning_2007.csv\",\n",
    "  header=True,\n",
    "  inferSchema=True,\n",
    "  sep=\",\")\n",
    "display(df_csv)"
   ],
   "metadata": {
    "collapsed": false,
    "ExecuteTime": {
     "end_time": "2024-04-15T21:08:44.966175Z",
     "start_time": "2024-04-15T21:08:30.502911Z"
    }
   },
   "id": "dbc05c886e53a397",
   "execution_count": 9
  },
  {
   "cell_type": "code",
   "outputs": [
    {
     "name": "stdout",
     "output_type": "stream",
     "text": [
      "+----+----------+------+---+-----+\n",
      "|Year|First Name|County|Sex|Count|\n",
      "+----+----------+------+---+-----+\n",
      "|2021|    OLIVIA|Albany|  F|   16|\n",
      "|2021|    AMELIA|Albany|  F|   16|\n",
      "|2021|    SOPHIA|Albany|  F|   13|\n",
      "|2021|       AVA|Albany|  F|   13|\n",
      "|2021|      EMMA|Albany|  F|   12|\n",
      "+----+----------+------+---+-----+\n"
     ]
    }
   ],
   "source": [
    "df_csv.show(5)"
   ],
   "metadata": {
    "collapsed": false,
    "ExecuteTime": {
     "end_time": "2024-04-15T21:08:59.313847Z",
     "start_time": "2024-04-15T21:08:58.161249Z"
    }
   },
   "id": "122ff404626cb581",
   "execution_count": 10
  },
  {
   "cell_type": "code",
   "outputs": [],
   "source": [],
   "metadata": {
    "collapsed": false
   },
   "id": "4959b1ca52914073"
  }
 ],
 "metadata": {
  "kernelspec": {
   "display_name": "Python 3",
   "language": "python",
   "name": "python3"
  },
  "language_info": {
   "codemirror_mode": {
    "name": "ipython",
    "version": 2
   },
   "file_extension": ".py",
   "mimetype": "text/x-python",
   "name": "python",
   "nbconvert_exporter": "python",
   "pygments_lexer": "ipython2",
   "version": "2.7.6"
  }
 },
 "nbformat": 4,
 "nbformat_minor": 5
}
